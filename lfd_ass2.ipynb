{
 "cells": [
  {
   "cell_type": "markdown",
   "id": "9f3baad5-930e-4936-a053-5c18731ad6a4",
   "metadata": {},
   "source": [
    "# Cell Phone insights\n",
    "\n",
    "## Data Source:Kaggle \n",
    "### GitHub Link: https://github.com/Innocentia-007/Learning-Data-Cell-Phone\n",
    "## Dataset Describtion: My Dataset consists of the Cell phones Brands(mostly all the cellphone brands you cab think about, from your iphones to you nokia, sony etc...), the model, the ram, screensize in inches, camera in MP and Battery capacity as well as the price.\n"
   ]
  },
  {
   "cell_type": "code",
   "execution_count": 133,
   "id": "ea9c4674-276e-4d02-9a86-3637224491f6",
   "metadata": {},
   "outputs": [],
   "source": [
    "import pandas as pd\n",
    "import numpy as np\n",
    "import seaborn as sns\n",
    "import matplotlib.pyplot as plt\n",
    "from statistics import mode\n",
    "from scipy.stats import skew, kurtosis\n",
    "import re\n",
    "import math\n",
    "from collections import Counter\n"
   ]
  },
  {
   "cell_type": "code",
   "execution_count": 134,
   "id": "5c6fa917-ee65-43bf-b692-b4bf398556f6",
   "metadata": {},
   "outputs": [
    {
     "data": {
      "text/html": [
       "<div>\n",
       "<style scoped>\n",
       "    .dataframe tbody tr th:only-of-type {\n",
       "        vertical-align: middle;\n",
       "    }\n",
       "\n",
       "    .dataframe tbody tr th {\n",
       "        vertical-align: top;\n",
       "    }\n",
       "\n",
       "    .dataframe thead th {\n",
       "        text-align: right;\n",
       "    }\n",
       "</style>\n",
       "<table border=\"1\" class=\"dataframe\">\n",
       "  <thead>\n",
       "    <tr style=\"text-align: right;\">\n",
       "      <th></th>\n",
       "      <th>Brand</th>\n",
       "      <th>Model</th>\n",
       "      <th>Storage</th>\n",
       "      <th>RAM</th>\n",
       "      <th>Screen Size (inches)</th>\n",
       "      <th>Camera (MP)</th>\n",
       "      <th>Battery Capacity (mAh)</th>\n",
       "      <th>Price ($)</th>\n",
       "    </tr>\n",
       "  </thead>\n",
       "  <tbody>\n",
       "    <tr>\n",
       "      <th>0</th>\n",
       "      <td>Apple</td>\n",
       "      <td>iPhone 13 Pro</td>\n",
       "      <td>128 GB</td>\n",
       "      <td>6 GB</td>\n",
       "      <td>6.10</td>\n",
       "      <td>12 + 12 + 12</td>\n",
       "      <td>3095</td>\n",
       "      <td>999.0</td>\n",
       "    </tr>\n",
       "    <tr>\n",
       "      <th>1</th>\n",
       "      <td>Samsung</td>\n",
       "      <td>Galaxy S21 Ultra</td>\n",
       "      <td>256 GB</td>\n",
       "      <td>12 GB</td>\n",
       "      <td>6.80</td>\n",
       "      <td>108 + 10 + 10 + 12</td>\n",
       "      <td>5000</td>\n",
       "      <td>1199.0</td>\n",
       "    </tr>\n",
       "    <tr>\n",
       "      <th>2</th>\n",
       "      <td>OnePlus</td>\n",
       "      <td>9 Pro</td>\n",
       "      <td>128 GB</td>\n",
       "      <td>8 GB</td>\n",
       "      <td>6.70</td>\n",
       "      <td>48 + 50 + 8 + 2</td>\n",
       "      <td>4500</td>\n",
       "      <td>899.0</td>\n",
       "    </tr>\n",
       "    <tr>\n",
       "      <th>3</th>\n",
       "      <td>Xiaomi</td>\n",
       "      <td>Redmi Note 10 Pro</td>\n",
       "      <td>128 GB</td>\n",
       "      <td>6 GB</td>\n",
       "      <td>6.67</td>\n",
       "      <td>64 + 8 + 5 + 2</td>\n",
       "      <td>5020</td>\n",
       "      <td>279.0</td>\n",
       "    </tr>\n",
       "    <tr>\n",
       "      <th>4</th>\n",
       "      <td>Google</td>\n",
       "      <td>Pixel 6</td>\n",
       "      <td>128 GB</td>\n",
       "      <td>8 GB</td>\n",
       "      <td>6.40</td>\n",
       "      <td>50 + 12.2</td>\n",
       "      <td>4614</td>\n",
       "      <td>799.0</td>\n",
       "    </tr>\n",
       "  </tbody>\n",
       "</table>\n",
       "</div>"
      ],
      "text/plain": [
       "     Brand              Model Storage    RAM  Screen Size (inches)  \\\n",
       "0    Apple      iPhone 13 Pro   128 GB   6 GB                 6.10   \n",
       "1  Samsung   Galaxy S21 Ultra   256 GB  12 GB                 6.80   \n",
       "2  OnePlus              9 Pro   128 GB   8 GB                 6.70   \n",
       "3   Xiaomi  Redmi Note 10 Pro   128 GB   6 GB                 6.67   \n",
       "4   Google            Pixel 6   128 GB   8 GB                 6.40   \n",
       "\n",
       "          Camera (MP)  Battery Capacity (mAh)  Price ($)  \n",
       "0        12 + 12 + 12                    3095      999.0  \n",
       "1  108 + 10 + 10 + 12                    5000     1199.0  \n",
       "2     48 + 50 + 8 + 2                    4500      899.0  \n",
       "3      64 + 8 + 5 + 2                    5020      279.0  \n",
       "4           50 + 12.2                    4614      799.0  "
      ]
     },
     "execution_count": 134,
     "metadata": {},
     "output_type": "execute_result"
    }
   ],
   "source": [
    "data = pd.read_csv(\"Mobile phone price.csv\")\n",
    "data.head()"
   ]
  },
  {
   "cell_type": "markdown",
   "id": "efa21e65-11d5-4e40-8c5a-99fcdbb6fde2",
   "metadata": {},
   "source": [
    "# Cleaning my data"
   ]
  },
  {
   "cell_type": "markdown",
   "id": "9ae2fdf3-514a-4a5b-b29d-97e15052132f",
   "metadata": {},
   "source": [
    "### Checking for empty data"
   ]
  },
  {
   "cell_type": "code",
   "execution_count": 135,
   "id": "42d6c8e5-28bf-47bf-bce5-ab499a412f74",
   "metadata": {},
   "outputs": [
    {
     "data": {
      "text/plain": [
       "Brand                     0\n",
       "Model                     0\n",
       "Storage                   0\n",
       "RAM                       0\n",
       "Screen Size (inches)      0\n",
       "Camera (MP)               0\n",
       "Battery Capacity (mAh)    0\n",
       "Price ($)                 0\n",
       "dtype: int64"
      ]
     },
     "execution_count": 135,
     "metadata": {},
     "output_type": "execute_result"
    }
   ],
   "source": [
    "data.isnull().sum()"
   ]
  },
  {
   "cell_type": "markdown",
   "id": "c5a12e99-b86d-440c-9de6-53a6d2401aa5",
   "metadata": {},
   "source": [
    "### check for data types"
   ]
  },
  {
   "cell_type": "code",
   "execution_count": 136,
   "id": "db5aceef-af46-42d2-9651-9ec2ac49ac21",
   "metadata": {},
   "outputs": [
    {
     "data": {
      "text/plain": [
       "Brand                      object\n",
       "Model                      object\n",
       "Storage                    object\n",
       "RAM                        object\n",
       "Screen Size (inches)       object\n",
       "Camera (MP)                object\n",
       "Battery Capacity (mAh)      int64\n",
       "Price ($)                 float64\n",
       "dtype: object"
      ]
     },
     "execution_count": 136,
     "metadata": {},
     "output_type": "execute_result"
    }
   ],
   "source": [
    "data.dtypes"
   ]
  },
  {
   "cell_type": "markdown",
   "id": "12a35b8b-bcd2-4f80-9e46-d633bfdabaeb",
   "metadata": {},
   "source": [
    "### Clean Storage and make to float /int"
   ]
  },
  {
   "cell_type": "code",
   "execution_count": 137,
   "id": "6c04ce5f-ce39-4d3e-b5d3-d35eb816d9c9",
   "metadata": {},
   "outputs": [
    {
     "data": {
      "text/plain": [
       "Index(['Brand', 'Model', 'Storage ', 'RAM ', 'Screen Size (inches)',\n",
       "       'Camera (MP)', 'Battery Capacity (mAh)', 'Price ($)'],\n",
       "      dtype='object')"
      ]
     },
     "execution_count": 137,
     "metadata": {},
     "output_type": "execute_result"
    }
   ],
   "source": [
    "data.columns"
   ]
  },
  {
   "cell_type": "code",
   "execution_count": 138,
   "id": "b744def4-09ae-4ce3-b7f7-1790a6612d89",
   "metadata": {},
   "outputs": [
    {
     "data": {
      "text/html": [
       "<div>\n",
       "<style scoped>\n",
       "    .dataframe tbody tr th:only-of-type {\n",
       "        vertical-align: middle;\n",
       "    }\n",
       "\n",
       "    .dataframe tbody tr th {\n",
       "        vertical-align: top;\n",
       "    }\n",
       "\n",
       "    .dataframe thead th {\n",
       "        text-align: right;\n",
       "    }\n",
       "</style>\n",
       "<table border=\"1\" class=\"dataframe\">\n",
       "  <thead>\n",
       "    <tr style=\"text-align: right;\">\n",
       "      <th></th>\n",
       "      <th>Brand</th>\n",
       "      <th>Model</th>\n",
       "      <th>RAM</th>\n",
       "      <th>Screen Size (inches)</th>\n",
       "      <th>Camera (MP)</th>\n",
       "      <th>Battery Capacity (mAh)</th>\n",
       "      <th>Price ($)</th>\n",
       "      <th>storage_gb</th>\n",
       "    </tr>\n",
       "  </thead>\n",
       "  <tbody>\n",
       "    <tr>\n",
       "      <th>0</th>\n",
       "      <td>Apple</td>\n",
       "      <td>iPhone 13 Pro</td>\n",
       "      <td>6 GB</td>\n",
       "      <td>6.10</td>\n",
       "      <td>12 + 12 + 12</td>\n",
       "      <td>3095</td>\n",
       "      <td>999.0</td>\n",
       "      <td>128.0</td>\n",
       "    </tr>\n",
       "    <tr>\n",
       "      <th>1</th>\n",
       "      <td>Samsung</td>\n",
       "      <td>Galaxy S21 Ultra</td>\n",
       "      <td>12 GB</td>\n",
       "      <td>6.80</td>\n",
       "      <td>108 + 10 + 10 + 12</td>\n",
       "      <td>5000</td>\n",
       "      <td>1199.0</td>\n",
       "      <td>256.0</td>\n",
       "    </tr>\n",
       "    <tr>\n",
       "      <th>2</th>\n",
       "      <td>OnePlus</td>\n",
       "      <td>9 Pro</td>\n",
       "      <td>8 GB</td>\n",
       "      <td>6.70</td>\n",
       "      <td>48 + 50 + 8 + 2</td>\n",
       "      <td>4500</td>\n",
       "      <td>899.0</td>\n",
       "      <td>128.0</td>\n",
       "    </tr>\n",
       "    <tr>\n",
       "      <th>3</th>\n",
       "      <td>Xiaomi</td>\n",
       "      <td>Redmi Note 10 Pro</td>\n",
       "      <td>6 GB</td>\n",
       "      <td>6.67</td>\n",
       "      <td>64 + 8 + 5 + 2</td>\n",
       "      <td>5020</td>\n",
       "      <td>279.0</td>\n",
       "      <td>128.0</td>\n",
       "    </tr>\n",
       "    <tr>\n",
       "      <th>4</th>\n",
       "      <td>Google</td>\n",
       "      <td>Pixel 6</td>\n",
       "      <td>8 GB</td>\n",
       "      <td>6.40</td>\n",
       "      <td>50 + 12.2</td>\n",
       "      <td>4614</td>\n",
       "      <td>799.0</td>\n",
       "      <td>128.0</td>\n",
       "    </tr>\n",
       "  </tbody>\n",
       "</table>\n",
       "</div>"
      ],
      "text/plain": [
       "     Brand              Model   RAM  Screen Size (inches)         Camera (MP)  \\\n",
       "0    Apple      iPhone 13 Pro   6 GB                 6.10        12 + 12 + 12   \n",
       "1  Samsung   Galaxy S21 Ultra  12 GB                 6.80  108 + 10 + 10 + 12   \n",
       "2  OnePlus              9 Pro   8 GB                 6.70     48 + 50 + 8 + 2   \n",
       "3   Xiaomi  Redmi Note 10 Pro   6 GB                 6.67      64 + 8 + 5 + 2   \n",
       "4   Google            Pixel 6   8 GB                 6.40           50 + 12.2   \n",
       "\n",
       "   Battery Capacity (mAh)  Price ($)  storage_gb  \n",
       "0                    3095      999.0       128.0  \n",
       "1                    5000     1199.0       256.0  \n",
       "2                    4500      899.0       128.0  \n",
       "3                    5020      279.0       128.0  \n",
       "4                    4614      799.0       128.0  "
      ]
     },
     "execution_count": 138,
     "metadata": {},
     "output_type": "execute_result"
    }
   ],
   "source": [
    "def clean_storage(x):\n",
    "    #make to lower case, remove extra spaces\n",
    "    x = ''.join(str(x).lower().split())\n",
    "    # use regex to remove any letters\n",
    "    x = re.sub(r'[a-zA-Z]', '', x)\n",
    "    x = ''.join(x.split())\n",
    "    if len(x) == 0:\n",
    "        return 0\n",
    "    else:\n",
    "        return float(x)\n",
    "    \n",
    "data['storage_gb'] = data['Storage '].apply(clean_storage)\n",
    "data.drop(columns=['Storage '], inplace=True, axis=1)\n",
    "data.head()"
   ]
  },
  {
   "cell_type": "markdown",
   "id": "c1e84c72-c466-46cd-93a0-d59940ccfac1",
   "metadata": {},
   "source": [
    "### Clean Camera Mp"
   ]
  },
  {
   "cell_type": "code",
   "execution_count": 139,
   "id": "a766803b-5a12-4790-9ba4-044228d96336",
   "metadata": {},
   "outputs": [
    {
     "data": {
      "text/html": [
       "<div>\n",
       "<style scoped>\n",
       "    .dataframe tbody tr th:only-of-type {\n",
       "        vertical-align: middle;\n",
       "    }\n",
       "\n",
       "    .dataframe tbody tr th {\n",
       "        vertical-align: top;\n",
       "    }\n",
       "\n",
       "    .dataframe thead th {\n",
       "        text-align: right;\n",
       "    }\n",
       "</style>\n",
       "<table border=\"1\" class=\"dataframe\">\n",
       "  <thead>\n",
       "    <tr style=\"text-align: right;\">\n",
       "      <th></th>\n",
       "      <th>Brand</th>\n",
       "      <th>Model</th>\n",
       "      <th>RAM</th>\n",
       "      <th>Screen Size (inches)</th>\n",
       "      <th>Battery Capacity (mAh)</th>\n",
       "      <th>Price ($)</th>\n",
       "      <th>storage_gb</th>\n",
       "      <th>camera_mp_sum</th>\n",
       "    </tr>\n",
       "  </thead>\n",
       "  <tbody>\n",
       "    <tr>\n",
       "      <th>0</th>\n",
       "      <td>Apple</td>\n",
       "      <td>iPhone 13 Pro</td>\n",
       "      <td>6 GB</td>\n",
       "      <td>6.10</td>\n",
       "      <td>3095</td>\n",
       "      <td>999.0</td>\n",
       "      <td>128.0</td>\n",
       "      <td>36.0</td>\n",
       "    </tr>\n",
       "    <tr>\n",
       "      <th>1</th>\n",
       "      <td>Samsung</td>\n",
       "      <td>Galaxy S21 Ultra</td>\n",
       "      <td>12 GB</td>\n",
       "      <td>6.80</td>\n",
       "      <td>5000</td>\n",
       "      <td>1199.0</td>\n",
       "      <td>256.0</td>\n",
       "      <td>140.0</td>\n",
       "    </tr>\n",
       "    <tr>\n",
       "      <th>2</th>\n",
       "      <td>OnePlus</td>\n",
       "      <td>9 Pro</td>\n",
       "      <td>8 GB</td>\n",
       "      <td>6.70</td>\n",
       "      <td>4500</td>\n",
       "      <td>899.0</td>\n",
       "      <td>128.0</td>\n",
       "      <td>108.0</td>\n",
       "    </tr>\n",
       "    <tr>\n",
       "      <th>3</th>\n",
       "      <td>Xiaomi</td>\n",
       "      <td>Redmi Note 10 Pro</td>\n",
       "      <td>6 GB</td>\n",
       "      <td>6.67</td>\n",
       "      <td>5020</td>\n",
       "      <td>279.0</td>\n",
       "      <td>128.0</td>\n",
       "      <td>79.0</td>\n",
       "    </tr>\n",
       "    <tr>\n",
       "      <th>4</th>\n",
       "      <td>Google</td>\n",
       "      <td>Pixel 6</td>\n",
       "      <td>8 GB</td>\n",
       "      <td>6.40</td>\n",
       "      <td>4614</td>\n",
       "      <td>799.0</td>\n",
       "      <td>128.0</td>\n",
       "      <td>62.2</td>\n",
       "    </tr>\n",
       "  </tbody>\n",
       "</table>\n",
       "</div>"
      ],
      "text/plain": [
       "     Brand              Model   RAM  Screen Size (inches)  \\\n",
       "0    Apple      iPhone 13 Pro   6 GB                 6.10   \n",
       "1  Samsung   Galaxy S21 Ultra  12 GB                 6.80   \n",
       "2  OnePlus              9 Pro   8 GB                 6.70   \n",
       "3   Xiaomi  Redmi Note 10 Pro   6 GB                 6.67   \n",
       "4   Google            Pixel 6   8 GB                 6.40   \n",
       "\n",
       "   Battery Capacity (mAh)  Price ($)  storage_gb  camera_mp_sum  \n",
       "0                    3095      999.0       128.0           36.0  \n",
       "1                    5000     1199.0       256.0          140.0  \n",
       "2                    4500      899.0       128.0          108.0  \n",
       "3                    5020      279.0       128.0           79.0  \n",
       "4                    4614      799.0       128.0           62.2  "
      ]
     },
     "execution_count": 139,
     "metadata": {},
     "output_type": "execute_result"
    }
   ],
   "source": [
    "def clean_camera(x):\n",
    "    x = ''.join(str(x).lower().split())\n",
    "    # remove letters\n",
    "    x = re.sub(r'[a-zA-Z]', '', x)\n",
    "    camera_mp_sum = sum([ float(i) if len(i) > 0 else 0 for i in x.split(\"+\") ])\n",
    "    return camera_mp_sum\n",
    "\n",
    "data['camera_mp_sum'] = data['Camera (MP)'].apply(clean_camera)\n",
    "data.drop(columns=['Camera (MP)'], inplace=True, axis=1)\n",
    "data.head()"
   ]
  },
  {
   "cell_type": "code",
   "execution_count": 140,
   "id": "83254873-ebc9-4d7e-a3e7-34444fbcc411",
   "metadata": {},
   "outputs": [
    {
     "data": {
      "text/html": [
       "<div>\n",
       "<style scoped>\n",
       "    .dataframe tbody tr th:only-of-type {\n",
       "        vertical-align: middle;\n",
       "    }\n",
       "\n",
       "    .dataframe tbody tr th {\n",
       "        vertical-align: top;\n",
       "    }\n",
       "\n",
       "    .dataframe thead th {\n",
       "        text-align: right;\n",
       "    }\n",
       "</style>\n",
       "<table border=\"1\" class=\"dataframe\">\n",
       "  <thead>\n",
       "    <tr style=\"text-align: right;\">\n",
       "      <th></th>\n",
       "      <th>Brand</th>\n",
       "      <th>Model</th>\n",
       "      <th>Screen Size (inches)</th>\n",
       "      <th>Battery Capacity (mAh)</th>\n",
       "      <th>Price ($)</th>\n",
       "      <th>storage_gb</th>\n",
       "      <th>camera_mp_sum</th>\n",
       "      <th>ram_gb</th>\n",
       "    </tr>\n",
       "  </thead>\n",
       "  <tbody>\n",
       "    <tr>\n",
       "      <th>0</th>\n",
       "      <td>Apple</td>\n",
       "      <td>iPhone 13 Pro</td>\n",
       "      <td>6.10</td>\n",
       "      <td>3095</td>\n",
       "      <td>999.0</td>\n",
       "      <td>128.0</td>\n",
       "      <td>36.0</td>\n",
       "      <td>6.0</td>\n",
       "    </tr>\n",
       "    <tr>\n",
       "      <th>1</th>\n",
       "      <td>Samsung</td>\n",
       "      <td>Galaxy S21 Ultra</td>\n",
       "      <td>6.80</td>\n",
       "      <td>5000</td>\n",
       "      <td>1199.0</td>\n",
       "      <td>256.0</td>\n",
       "      <td>140.0</td>\n",
       "      <td>12.0</td>\n",
       "    </tr>\n",
       "    <tr>\n",
       "      <th>2</th>\n",
       "      <td>OnePlus</td>\n",
       "      <td>9 Pro</td>\n",
       "      <td>6.70</td>\n",
       "      <td>4500</td>\n",
       "      <td>899.0</td>\n",
       "      <td>128.0</td>\n",
       "      <td>108.0</td>\n",
       "      <td>8.0</td>\n",
       "    </tr>\n",
       "    <tr>\n",
       "      <th>3</th>\n",
       "      <td>Xiaomi</td>\n",
       "      <td>Redmi Note 10 Pro</td>\n",
       "      <td>6.67</td>\n",
       "      <td>5020</td>\n",
       "      <td>279.0</td>\n",
       "      <td>128.0</td>\n",
       "      <td>79.0</td>\n",
       "      <td>6.0</td>\n",
       "    </tr>\n",
       "    <tr>\n",
       "      <th>4</th>\n",
       "      <td>Google</td>\n",
       "      <td>Pixel 6</td>\n",
       "      <td>6.40</td>\n",
       "      <td>4614</td>\n",
       "      <td>799.0</td>\n",
       "      <td>128.0</td>\n",
       "      <td>62.2</td>\n",
       "      <td>8.0</td>\n",
       "    </tr>\n",
       "  </tbody>\n",
       "</table>\n",
       "</div>"
      ],
      "text/plain": [
       "     Brand              Model Screen Size (inches)  Battery Capacity (mAh)  \\\n",
       "0    Apple      iPhone 13 Pro                 6.10                    3095   \n",
       "1  Samsung   Galaxy S21 Ultra                 6.80                    5000   \n",
       "2  OnePlus              9 Pro                 6.70                    4500   \n",
       "3   Xiaomi  Redmi Note 10 Pro                 6.67                    5020   \n",
       "4   Google            Pixel 6                 6.40                    4614   \n",
       "\n",
       "   Price ($)  storage_gb  camera_mp_sum  ram_gb  \n",
       "0      999.0       128.0           36.0     6.0  \n",
       "1     1199.0       256.0          140.0    12.0  \n",
       "2      899.0       128.0          108.0     8.0  \n",
       "3      279.0       128.0           79.0     6.0  \n",
       "4      799.0       128.0           62.2     8.0  "
      ]
     },
     "execution_count": 140,
     "metadata": {},
     "output_type": "execute_result"
    }
   ],
   "source": [
    "def clean_ram(x):\n",
    "    #make to lower case, remove extra spaces\n",
    "    x = ''.join(str(x).lower().split())\n",
    "    # use regex to remove any letters\n",
    "    x = re.sub(r'[a-zA-Z]', '', x)\n",
    "    x = ''.join(x.split())\n",
    "    if len(x) == 0:\n",
    "        return 0\n",
    "    else:\n",
    "        return float(x)\n",
    "    \n",
    "data['ram_gb'] = data['RAM '].apply(clean_ram)\n",
    "data.drop(columns=['RAM '], inplace=True, axis=1)\n",
    "data.head()"
   ]
  },
  {
   "cell_type": "markdown",
   "id": "866ffb05-644f-4f82-bc4f-5fd6c47b09fb",
   "metadata": {},
   "source": [
    "### clean inches\n",
    "\n",
    "- use function for camera cleaning to fix this issue: ValueError: could not convert string to float: '6.8+3.9'\n",
    "- so that those screen can be added together"
   ]
  },
  {
   "cell_type": "code",
   "execution_count": 141,
   "id": "9c3c94a2-384f-4f8c-96b9-9683b43172b8",
   "metadata": {},
   "outputs": [
    {
     "data": {
      "text/html": [
       "<div>\n",
       "<style scoped>\n",
       "    .dataframe tbody tr th:only-of-type {\n",
       "        vertical-align: middle;\n",
       "    }\n",
       "\n",
       "    .dataframe tbody tr th {\n",
       "        vertical-align: top;\n",
       "    }\n",
       "\n",
       "    .dataframe thead th {\n",
       "        text-align: right;\n",
       "    }\n",
       "</style>\n",
       "<table border=\"1\" class=\"dataframe\">\n",
       "  <thead>\n",
       "    <tr style=\"text-align: right;\">\n",
       "      <th></th>\n",
       "      <th>Brand</th>\n",
       "      <th>Model</th>\n",
       "      <th>Battery Capacity (mAh)</th>\n",
       "      <th>Price ($)</th>\n",
       "      <th>storage_gb</th>\n",
       "      <th>camera_mp_sum</th>\n",
       "      <th>ram_gb</th>\n",
       "      <th>screen_inch</th>\n",
       "    </tr>\n",
       "  </thead>\n",
       "  <tbody>\n",
       "    <tr>\n",
       "      <th>0</th>\n",
       "      <td>Apple</td>\n",
       "      <td>iPhone 13 Pro</td>\n",
       "      <td>3095</td>\n",
       "      <td>999.0</td>\n",
       "      <td>128.0</td>\n",
       "      <td>36.0</td>\n",
       "      <td>6.0</td>\n",
       "      <td>6.10</td>\n",
       "    </tr>\n",
       "    <tr>\n",
       "      <th>1</th>\n",
       "      <td>Samsung</td>\n",
       "      <td>Galaxy S21 Ultra</td>\n",
       "      <td>5000</td>\n",
       "      <td>1199.0</td>\n",
       "      <td>256.0</td>\n",
       "      <td>140.0</td>\n",
       "      <td>12.0</td>\n",
       "      <td>6.80</td>\n",
       "    </tr>\n",
       "    <tr>\n",
       "      <th>2</th>\n",
       "      <td>OnePlus</td>\n",
       "      <td>9 Pro</td>\n",
       "      <td>4500</td>\n",
       "      <td>899.0</td>\n",
       "      <td>128.0</td>\n",
       "      <td>108.0</td>\n",
       "      <td>8.0</td>\n",
       "      <td>6.70</td>\n",
       "    </tr>\n",
       "    <tr>\n",
       "      <th>3</th>\n",
       "      <td>Xiaomi</td>\n",
       "      <td>Redmi Note 10 Pro</td>\n",
       "      <td>5020</td>\n",
       "      <td>279.0</td>\n",
       "      <td>128.0</td>\n",
       "      <td>79.0</td>\n",
       "      <td>6.0</td>\n",
       "      <td>6.67</td>\n",
       "    </tr>\n",
       "    <tr>\n",
       "      <th>4</th>\n",
       "      <td>Google</td>\n",
       "      <td>Pixel 6</td>\n",
       "      <td>4614</td>\n",
       "      <td>799.0</td>\n",
       "      <td>128.0</td>\n",
       "      <td>62.2</td>\n",
       "      <td>8.0</td>\n",
       "      <td>6.40</td>\n",
       "    </tr>\n",
       "  </tbody>\n",
       "</table>\n",
       "</div>"
      ],
      "text/plain": [
       "     Brand              Model  Battery Capacity (mAh)  Price ($)  storage_gb  \\\n",
       "0    Apple      iPhone 13 Pro                    3095      999.0       128.0   \n",
       "1  Samsung   Galaxy S21 Ultra                    5000     1199.0       256.0   \n",
       "2  OnePlus              9 Pro                    4500      899.0       128.0   \n",
       "3   Xiaomi  Redmi Note 10 Pro                    5020      279.0       128.0   \n",
       "4   Google            Pixel 6                    4614      799.0       128.0   \n",
       "\n",
       "   camera_mp_sum  ram_gb  screen_inch  \n",
       "0           36.0     6.0         6.10  \n",
       "1          140.0    12.0         6.80  \n",
       "2          108.0     8.0         6.70  \n",
       "3           79.0     6.0         6.67  \n",
       "4           62.2     8.0         6.40  "
      ]
     },
     "execution_count": 141,
     "metadata": {},
     "output_type": "execute_result"
    }
   ],
   "source": [
    "def clean_screen_inch(x):\n",
    "    #make to lower case, remove extra spaces\n",
    "    x = ''.join(str(x).lower().split())\n",
    "    # use regex to remove any letters\n",
    "    x = re.sub(r'[^0-9.+]', '', x)\n",
    "    x = ''.join(x.split())\n",
    "    # used this function for screen that have 2 number\n",
    "    x = clean_camera(x)\n",
    "    return x\n",
    "    \n",
    "data['screen_inch'] = data['Screen Size (inches)'].apply(clean_screen_inch)\n",
    "data.drop(columns=['Screen Size (inches)'], inplace=True, axis=1)\n",
    "data.head()"
   ]
  },
  {
   "cell_type": "markdown",
   "id": "47c6721e-6140-452f-aebc-219b05558560",
   "metadata": {},
   "source": [
    "### make battery capacity for a float"
   ]
  },
  {
   "cell_type": "code",
   "execution_count": 142,
   "id": "d0781cd6-3b40-4e8d-858b-2bff3fcf49ab",
   "metadata": {},
   "outputs": [],
   "source": [
    "#data['Battery Capacity (mAh)'] = data['Battery Capacity (mAh)'].astype(float)\n",
    "#data.head()"
   ]
  },
  {
   "cell_type": "code",
   "execution_count": 107,
   "id": "a1d1f931-a099-4f50-93ea-155ed2f4e353",
   "metadata": {},
   "outputs": [
    {
     "data": {
      "text/plain": [
       "Brand                      object\n",
       "Model                      object\n",
       "Battery Capacity (mAh)      int64\n",
       "Price ($)                 float64\n",
       "storage_gb                float64\n",
       "camera_mp_sum             float64\n",
       "ram_gb                    float64\n",
       "screen_inch               float64\n",
       "dtype: object"
      ]
     },
     "execution_count": 107,
     "metadata": {},
     "output_type": "execute_result"
    }
   ],
   "source": [
    "data.dtypes"
   ]
  },
  {
   "cell_type": "markdown",
   "id": "a6ef3afe-e2d4-47c7-96bf-0cda224c81ed",
   "metadata": {},
   "source": [
    "# Stats description\n",
    "\n",
    "### For Battery Capacity \n"
   ]
  },
  {
   "cell_type": "code",
   "execution_count": 108,
   "id": "0cf06300-1f3c-4272-a87d-f505a820401e",
   "metadata": {},
   "outputs": [
    {
     "name": "stdout",
     "output_type": "stream",
     "text": [
      "1. Sum: 1903326\n",
      "2. Mean: 4676.4766584766585\n",
      "3. Median: 5000\n",
      "4. Mode: [5000]\n",
      "5. Minimum: 1821\n",
      "6. Maximum: 7000\n",
      "7. Range: 5179\n",
      "8. Quartiles: (4200, 5000, 2815)\n",
      "9. Interquartile Range (IQR): -1385\n",
      "10. Skewness: -0.815846496709366\n",
      "11. Kurtosis: 2.0726618726159165\n",
      "12. Standard Deviation: 796.2137575646816\n",
      "13. Variance: 633956.3477352696\n",
      "14. Coefficient of Variation (CV): 17.025932463951285\n"
     ]
    }
   ],
   "source": [
    "\n",
    "#function to calculate the sum\n",
    "def calculate_sum(d):\n",
    "    total = 0 \n",
    "    for num in d:\n",
    "        total += num\n",
    "    return total\n",
    "    \n",
    "#funcdtion to calculate the mean\n",
    "def calculate_mean(d):\n",
    "    total = sum(d)\n",
    "    mean = total / len(d)\n",
    "    return mean\n",
    "\n",
    "#fun to calculate the median\n",
    "def calculate_median(d):\n",
    "    sorted_data = sorted(d)\n",
    "    n = len(d)\n",
    "    if n % 2 == 0:\n",
    "        return (sorted_data[n//2 - 1] + sorted_data[n//2]) / 2\n",
    "    else:\n",
    "        return sorted_data[n//2]\n",
    "        \n",
    "#function to calculate the mode\n",
    "def calculate_mode(d):\n",
    "    frequency = {}\n",
    "    for value in d:\n",
    "        frequency[value] = frequency.get(value, 0) + 1\n",
    "    max_frequency = max(frequency.values())\n",
    "    mode_values = [key for key, val in frequency.items() if val == max_frequency]\n",
    "    return mode_values\n",
    "\n",
    "#function to calculate the minimum\n",
    "def calculate_min(d):\n",
    "    if len(d) == 0:\n",
    "        return None\n",
    "    min_value = d[0]\n",
    "    for num in d:\n",
    "        if num < min_value:\n",
    "            min_value = num\n",
    "    return min_value\n",
    "    \n",
    "#function to calculate the maximum\n",
    "def calculate_max(d):\n",
    "    if len(d) == 0:\n",
    "        return None\n",
    "    max_value = d[0]\n",
    "    for num in d:\n",
    "        if num > max_value:\n",
    "            max_value = num\n",
    "    return max_value\n",
    "\n",
    "# Calculate Range\n",
    "def calculate_range(d):\n",
    "    if len(d) == 0:\n",
    "        return None\n",
    "    return max(d) - min(d)\n",
    "\n",
    "#function to calculate quartiles\n",
    "def calculate_quartiles(d):\n",
    "    d_sort = sorted(d)\n",
    "    n = len(d_sort)\n",
    "    \n",
    "    #d.sort()\n",
    "    length = len(d)\n",
    "    \n",
    "    # Q1 (25th percentile)\n",
    "    q1_index = int(length * 0.25)\n",
    "    q1 = d[q1_index]\n",
    "    \n",
    "    # Q2 (median, 50th percentile)\n",
    "    q2 = calculate_median(d)\n",
    "    \n",
    "    # Q3 (75th percentile)\n",
    "    q3_index = int(length * 0.75)\n",
    "    q3 = d[q3_index]\n",
    "    return q1, q2, q3\n",
    "\n",
    "#function for calculating the IQR\n",
    "def calculate_iqr(d):\n",
    "    q1, _, q3 = calculate_quartiles(d)\n",
    "    return q3 - q1\n",
    "    \n",
    "#function to calculate the variance\n",
    "def calculate_variance(d):\n",
    "    n = len(d)\n",
    "    if n == 0:\n",
    "        return None\n",
    "    mean = sum(d) / n\n",
    "    variance = sum((x - mean) ** 2 for x in d) / n\n",
    "    return variance\n",
    "\n",
    "#function to calculate the standard deviation\n",
    "def calculate_std_dev(d):\n",
    "    if len(d) == 0:\n",
    "        return None\n",
    "    mean = sum(d) / len(d)\n",
    "    variance = sum((x - mean) ** 2 for x in d) / len(d)\n",
    "    std_dev = math.sqrt(variance)\n",
    "    return std_dev\n",
    "   \n",
    "# Calculate Coefficient of Variation (CV)\n",
    "def calculate_cv(d):\n",
    "    if len(d) == 0:\n",
    "        return None\n",
    "    std_dev = np.std(d)\n",
    "    mean = np.mean(d)\n",
    "    cv = (std_dev / mean) * 100\n",
    "    return cv\n",
    "\n",
    "#function to Calculate Skewness\n",
    "def calc_skewness(d):\n",
    "    return skew(d)\n",
    "\n",
    "#function to  Calculate Kurtosis\n",
    "def calc_kurtosis(d):\n",
    "    return kurtosis(d)\n",
    "#Descriptive statistics for 'Units Sold' column\n",
    "Battery_Capacity = data['Battery Capacity (mAh)']\n",
    "\n",
    "#Calculate descriptive statistics\n",
    "print(\"1. Sum:\", calculate_sum(Battery_Capacity))\n",
    "print(\"2. Mean:\", calculate_mean(Battery_Capacity))\n",
    "print(\"3. Median:\", calculate_median(Battery_Capacity))\n",
    "print(\"4. Mode:\", calculate_mode(Battery_Capacity))\n",
    "print(\"5. Minimum:\", calculate_min(Battery_Capacity))\n",
    "print(\"6. Maximum:\", calculate_max(Battery_Capacity))\n",
    "print(\"7. Range:\", calculate_range(Battery_Capacity) )\n",
    "print(\"8. Quartiles:\", calculate_quartiles(Battery_Capacity))\n",
    "print(\"9. Interquartile Range (IQR):\", calculate_iqr(Battery_Capacity))\n",
    "print(\"10. Skewness:\", calc_skewness(Battery_Capacity))\n",
    "print(\"11. Kurtosis:\", calc_kurtosis(Battery_Capacity))\n",
    "print(\"12. Standard Deviation:\", calculate_std_dev(Battery_Capacity))\n",
    "print(\"13. Variance:\", calculate_variance(Battery_Capacity))\n",
    "print(\"14. Coefficient of Variation (CV):\", calculate_cv(Battery_Capacity))\n",
    "#print(\"15. Zscore:\", calc_zscore(Battery_Capacity))\n"
   ]
  },
  {
   "cell_type": "markdown",
   "id": "d52708cd-dab7-47b3-b94e-8f7763168acf",
   "metadata": {},
   "source": [
    "### for price "
   ]
  },
  {
   "cell_type": "code",
   "execution_count": 116,
   "id": "d54848e8-91a5-4e77-b928-b248df558fae",
   "metadata": {},
   "outputs": [
    {
     "name": "stdout",
     "output_type": "stream",
     "text": [
      "1. Sum: 166184.0\n",
      "2. Mean: 408.3144963144963\n",
      "3. Median: 299.0\n",
      "4. Mode: [199.0]\n",
      "5. Minimum: 99.0\n",
      "6. Maximum: 1999.0\n",
      "7. Range: 1900.0\n",
      "8. Quartiles: (299.0, 299.0, 799.0)\n",
      "9. Interquartile Range (IQR): 500.0\n",
      "10. Skewness: 1.611155257252087\n",
      "11. Kurtosis: 2.561622584650192\n",
      "12. Standard Deviation: 299.3163781226503\n",
      "13. Variance: 89590.29421246136\n",
      "14. Coefficient of Variation (CV): 73.30535183646963\n"
     ]
    }
   ],
   "source": [
    "\n",
    "#function to calculate the sum\n",
    "def calculate_sum(d):\n",
    "    total = 0 \n",
    "    for num in d:\n",
    "        total += num\n",
    "    return total\n",
    "    \n",
    "#funcdtion to calculate the mean\n",
    "def calculate_mean(d):\n",
    "    total = sum(d)\n",
    "    mean = total / len(d)\n",
    "    return mean\n",
    "\n",
    "#fun to calculate the median\n",
    "def calculate_median(d):\n",
    "    sorted_data = sorted(d)\n",
    "    n = len(d)\n",
    "    if n % 2 == 0:\n",
    "        return (sorted_data[n//2 - 1] + sorted_data[n//2]) / 2\n",
    "    else:\n",
    "        return sorted_data[n//2]\n",
    "        \n",
    "#function to calculate the mode\n",
    "def calculate_mode(d):\n",
    "    frequency = {}\n",
    "    for value in d:\n",
    "        frequency[value] = frequency.get(value, 0) + 1\n",
    "    max_frequency = max(frequency.values())\n",
    "    mode_values = [key for key, val in frequency.items() if val == max_frequency]\n",
    "    return mode_values\n",
    "\n",
    "#function to calculate the minimum\n",
    "def calculate_min(d):\n",
    "    if len(d) == 0:\n",
    "        return None\n",
    "    min_value = d[0]\n",
    "    for num in d:\n",
    "        if num < min_value:\n",
    "            min_value = num\n",
    "    return min_value\n",
    "    \n",
    "#function to calculate the maximum\n",
    "def calculate_max(d):\n",
    "    if len(d) == 0:\n",
    "        return None\n",
    "    max_value = d[0]\n",
    "    for num in d:\n",
    "        if num > max_value:\n",
    "            max_value = num\n",
    "    return max_value\n",
    "\n",
    "# Calculate Range\n",
    "def calculate_range(d):\n",
    "    if len(d) == 0:\n",
    "        return None\n",
    "    return max(d) - min(d)\n",
    "\n",
    "#function to calculate quartiles\n",
    "def calculate_quartiles(d):\n",
    "    d_sort = sorted(d)\n",
    "    n = len(d_sort)\n",
    "    \n",
    "    #d.sort()\n",
    "    length = len(d)\n",
    "    \n",
    "    # Q1 (25th percentile)\n",
    "    q1_index = int(length * 0.25)\n",
    "    q1 = d[q1_index]\n",
    "    \n",
    "    # Q2 (median, 50th percentile)\n",
    "    q2 = calculate_median(d)\n",
    "    \n",
    "    # Q3 (75th percentile)\n",
    "    q3_index = int(length * 0.75)\n",
    "    q3 = d[q3_index]\n",
    "    return q1, q2, q3\n",
    "\n",
    "#function for calculating the IQR\n",
    "def calculate_iqr(d):\n",
    "    q1, _, q3 = calculate_quartiles(d)\n",
    "    return q3 - q1\n",
    "    \n",
    "#function to calculate the variance\n",
    "def calculate_variance(d):\n",
    "    n = len(d)\n",
    "    if n == 0:\n",
    "        return None\n",
    "    mean = sum(d) / n\n",
    "    variance = sum((x - mean) ** 2 for x in d) / n\n",
    "    return variance\n",
    "\n",
    "#function to calculate the standard deviation\n",
    "def calculate_std_dev(d):\n",
    "    if len(d) == 0:\n",
    "        return None\n",
    "    mean = sum(d) / len(d)\n",
    "    variance = sum((x - mean) ** 2 for x in d) / len(d)\n",
    "    std_dev = math.sqrt(variance)\n",
    "    return std_dev\n",
    "   \n",
    "# Calculate Coefficient of Variation (CV)\n",
    "def calculate_cv(d):\n",
    "    if len(d) == 0:\n",
    "        return None\n",
    "    std_dev = np.std(d)\n",
    "    mean = np.mean(d)\n",
    "    cv = (std_dev / mean) * 100\n",
    "    return cv\n",
    "\n",
    "#function to Calculate Skewness\n",
    "def calc_skewness(d):\n",
    "    return skew(d)\n",
    "\n",
    "#function to  Calculate Kurtosis\n",
    "def calc_kurtosis(d):\n",
    "    return kurtosis(d)\n",
    "#Descriptive statistics for 'Units Sold' column\n",
    "Price = data['Price ($)']\n",
    "\n",
    "#Calculate descriptive statistics\n",
    "print(\"1. Sum:\", calculate_sum(Price))\n",
    "print(\"2. Mean:\", calculate_mean(Price))\n",
    "print(\"3. Median:\", calculate_median(Price))\n",
    "print(\"4. Mode:\", calculate_mode(Price))\n",
    "print(\"5. Minimum:\", calculate_min(Price))\n",
    "print(\"6. Maximum:\", calculate_max(Price))\n",
    "print(\"7. Range:\", calculate_range(Price))\n",
    "print(\"8. Quartiles:\", calculate_quartiles(Price))\n",
    "print(\"9. Interquartile Range (IQR):\", calculate_iqr(Price))\n",
    "print(\"10. Skewness:\", calc_skewness(Price))\n",
    "print(\"11. Kurtosis:\", calc_kurtosis(Price))\n",
    "print(\"12. Standard Deviation:\", calculate_std_dev(Price))\n",
    "print(\"13. Variance:\", calculate_variance(Price))\n",
    "print(\"14. Coefficient of Variation (CV):\", calculate_cv(Price))\n",
    "#print(\"15. Zscore:\", calc_zscore(Battery_Capacity))\n"
   ]
  },
  {
   "cell_type": "markdown",
   "id": "f5ac4a64-6c32-4d59-bd67-70c2b59ee70d",
   "metadata": {},
   "source": [
    "For Screen "
   ]
  },
  {
   "cell_type": "code",
   "execution_count": 118,
   "id": "8dd1446c-d158-4f1c-83cd-32158c31a6d9",
   "metadata": {},
   "outputs": [
    {
     "name": "stdout",
     "output_type": "stream",
     "text": [
      "1. Sum of Screen is: 2637.7\n",
      "2. Mean of Screen is: 6.48083538083538\n",
      "3. Median of Screen is: 6.5\n",
      "4. Mode of Screen is: [6.5]\n",
      "5. Minimum of Screen is: 4.5\n",
      "6. Maximum of Screen is: 10.7\n",
      "7. Range of Screen is: 6.199999999999999\n",
      "8. Quartiles of Screen is: (5.5, 6.5, 6.1)\n",
      "9. Interquartile Range (IQR) of Screen is: 0.5999999999999996\n",
      "10. Skewness of Screen is: 1.1560824252828936\n",
      "11. Kurtosis of Screen is: 43.87303667429378\n",
      "12. Standard Deviation of Screen is: 0.3821969209897498\n",
      "13. Variance of Screen is: 0.14607448641404505\n",
      "14. Coefficient of Variation (CV) of Screen is: 5.897340366335375\n"
     ]
    }
   ],
   "source": [
    "\n",
    "#function to calculate the sum\n",
    "def calculate_sum(d):\n",
    "    total = 0 \n",
    "    for num in d:\n",
    "        total += num\n",
    "    return total\n",
    "    \n",
    "#funcdtion to calculate the mean\n",
    "def calculate_mean(d):\n",
    "    total = sum(d)\n",
    "    mean = total / len(d)\n",
    "    return mean\n",
    "\n",
    "#fun to calculate the median\n",
    "def calculate_median(d):\n",
    "    sorted_data = sorted(d)\n",
    "    n = len(d)\n",
    "    if n % 2 == 0:\n",
    "        return (sorted_data[n//2 - 1] + sorted_data[n//2]) / 2\n",
    "    else:\n",
    "        return sorted_data[n//2]\n",
    "        \n",
    "#function to calculate the mode\n",
    "def calculate_mode(d):\n",
    "    frequency = {}\n",
    "    for value in d:\n",
    "        frequency[value] = frequency.get(value, 0) + 1\n",
    "    max_frequency = max(frequency.values())\n",
    "    mode_values = [key for key, val in frequency.items() if val == max_frequency]\n",
    "    return mode_values\n",
    "\n",
    "#function to calculate the minimum\n",
    "def calculate_min(d):\n",
    "    if len(d) == 0:\n",
    "        return None\n",
    "    min_value = d[0]\n",
    "    for num in d:\n",
    "        if num < min_value:\n",
    "            min_value = num\n",
    "    return min_value\n",
    "    \n",
    "#function to calculate the maximum\n",
    "def calculate_max(d):\n",
    "    if len(d) == 0:\n",
    "        return None\n",
    "    max_value = d[0]\n",
    "    for num in d:\n",
    "        if num > max_value:\n",
    "            max_value = num\n",
    "    return max_value\n",
    "\n",
    "# Calculate Range\n",
    "def calculate_range(d):\n",
    "    if len(d) == 0:\n",
    "        return None\n",
    "    return max(d) - min(d)\n",
    "\n",
    "#function to calculate quartiles\n",
    "def calculate_quartiles(d):\n",
    "    d_sort = sorted(d)\n",
    "    n = len(d_sort)\n",
    "    \n",
    "    #d.sort()\n",
    "    length = len(d)\n",
    "    \n",
    "    # Q1 (25th percentile)\n",
    "    q1_index = int(length * 0.25)\n",
    "    q1 = d[q1_index]\n",
    "    \n",
    "    # Q2 (median, 50th percentile)\n",
    "    q2 = calculate_median(d)\n",
    "    \n",
    "    # Q3 (75th percentile)\n",
    "    q3_index = int(length * 0.75)\n",
    "    q3 = d[q3_index]\n",
    "    return q1, q2, q3\n",
    "\n",
    "#function for calculating the IQR\n",
    "def calculate_iqr(d):\n",
    "    q1, _, q3 = calculate_quartiles(d)\n",
    "    return q3 - q1\n",
    "    \n",
    "#function to calculate the variance\n",
    "def calculate_variance(d):\n",
    "    n = len(d)\n",
    "    if n == 0:\n",
    "        return None\n",
    "    mean = sum(d) / n\n",
    "    variance = sum((x - mean) ** 2 for x in d) / n\n",
    "    return variance\n",
    "\n",
    "#function to calculate the standard deviation\n",
    "def calculate_std_dev(d):\n",
    "    if len(d) == 0:\n",
    "        return None\n",
    "    mean = sum(d) / len(d)\n",
    "    variance = sum((x - mean) ** 2 for x in d) / len(d)\n",
    "    std_dev = math.sqrt(variance)\n",
    "    return std_dev\n",
    "   \n",
    "# Calculate Coefficient of Variation (CV)\n",
    "def calculate_cv(d):\n",
    "    if len(d) == 0:\n",
    "        return None\n",
    "    std_dev = np.std(d)\n",
    "    mean = np.mean(d)\n",
    "    cv = (std_dev / mean) * 100\n",
    "    return cv\n",
    "\n",
    "#function to Calculate Skewness\n",
    "def calc_skewness(d):\n",
    "    return skew(d)\n",
    "\n",
    "#function to  Calculate Kurtosis\n",
    "def calc_kurtosis(d):\n",
    "    return kurtosis(d)\n",
    "#Descriptive statistics for 'Units Sold' column\n",
    "Screen = data['screen_inch']\n",
    "\n",
    "#Calculate descriptive statistics\n",
    "print(\"1. Sum of Screen is:\", calculate_sum(Screen))\n",
    "print(\"2. Mean of Screen is:\", calculate_mean(Screen))\n",
    "print(\"3. Median of Screen is:\", calculate_median(Screen))\n",
    "print(\"4. Mode of Screen is:\", calculate_mode(Screen))\n",
    "print(\"5. Minimum of Screen is:\", calculate_min(Screen))\n",
    "print(\"6. Maximum of Screen is:\", calculate_max(Screen))\n",
    "print(\"7. Range of Screen is:\", calculate_range(Screen))\n",
    "print(\"8. Quartiles of Screen is:\", calculate_quartiles(Screen))\n",
    "print(\"9. Interquartile Range (IQR) of Screen is:\", calculate_iqr(Screen))\n",
    "print(\"10. Skewness of Screen is:\", calc_skewness(Screen))\n",
    "print(\"11. Kurtosis of Screen is:\", calc_kurtosis(Screen))\n",
    "print(\"12. Standard Deviation of Screen is:\", calculate_std_dev(Screen))\n",
    "print(\"13. Variance of Screen is:\", calculate_variance(Screen))\n",
    "print(\"14. Coefficient of Variation (CV) of Screen is:\", calculate_cv(Screen))\n",
    "#print(\"15. Zscore:\", calc_zscore(Screen))\n"
   ]
  },
  {
   "cell_type": "markdown",
   "id": "b4058de7-7e51-4bad-b407-6b76fe5eea7c",
   "metadata": {},
   "source": [
    "# Data Viz "
   ]
  },
  {
   "cell_type": "code",
   "execution_count": null,
   "id": "88e6ccb0-4dcd-40b5-a66c-8bc0d8bbd9af",
   "metadata": {},
   "outputs": [],
   "source": [
    "data.head()"
   ]
  },
  {
   "cell_type": "markdown",
   "id": "ccd61d3d-a63f-487f-9f73-5c2e2c3be039",
   "metadata": {},
   "source": [
    "### GRAPHS"
   ]
  },
  {
   "cell_type": "markdown",
   "id": "ff34bbb6-6f30-422c-85bf-948e4af26be1",
   "metadata": {},
   "source": [
    "## Box plot for both Screen and Battery\n",
    "\n",
    "-From the below box plot, i can conclude that the smaller your screen, the lower the battery usage and vice versa.\n",
    "The data is more spread to the right for screen and left for battery\n"
   ]
  },
  {
   "cell_type": "code",
   "execution_count": 128,
   "id": "05eee60f-f56b-4555-8950-2f583ce541be",
   "metadata": {},
   "outputs": [
    {
     "data": {
      "image/png": "[encoded data removed]",
      "text/plain": [
       "<Figure size 1000x600 with 2 Axes>"
      ]
     },
     "metadata": {},
     "output_type": "display_data"
    }
   ],
   "source": [
    "\n",
    "# Descriptive statistics for the first box plot\n",
    "#Screen\n",
    "min_value_1 = 4.5\n",
    "q1_1 = 5.5\n",
    "median_1 = 6.5\n",
    "q3_1 = 6.1\n",
    "max_value_1 = 10.7\n",
    "iqr_1 = 0.6\n",
    "\n",
    "# Descriptive statistics for the second box plot\n",
    "min_value_2 = 3.8\n",
    "q1_2 = 4.5\n",
    "median_2 = 5.8\n",
    "q3_2 = 6.3\n",
    "max_value_2 = 11.2\n",
    "iqr_2 = 0.8\n",
    "\n",
    "# Calculate whisker ends for the first box plot\n",
    "lower_whisker_1 = max(min_value_1, q1_1 - 1.5 * iqr_1)\n",
    "upper_whisker_1 = min(max_value_1, q3_1 + 1.5 * iqr_1)\n",
    "\n",
    "# Calculate whisker ends for the second box plot\n",
    "lower_whisker_2 = max(min_value_2, q1_2 - 1.5 * iqr_2)\n",
    "upper_whisker_2 = min(max_value_2, q3_2 + 1.5 * iqr_2)\n",
    "\n",
    "# Sample data for the first box plot\n",
    "Screen_1 = [4.8, 5.2, 6.0, 6.5, 7.1, 8.3, 9.2, 10.5]\n",
    "\n",
    "# Sample data for the second box plot\n",
    "Screen_2 = [3.5, 4.0, 5.0, 5.5, 6.8, 7.2, 8.1, 9.7, 11.0]\n",
    "\n",
    "# Data points for outliers for the first box plot\n",
    "outliers_1 = [value for value in Screen_1 if value < lower_whisker_1 or value > upper_whisker_1]\n",
    "\n",
    "# Data points for outliers for the second box plot\n",
    "outliers_2 = [value for value in Screen_2 if value < lower_whisker_2 or value > upper_whisker_2]\n",
    "\n",
    "# Create a figure and two subplots for box plots\n",
    "plt.figure(figsize=(10, 6))\n",
    "\n",
    "# First subplot for the first box plot\n",
    "plt.subplot(1, 2, 1)\n",
    "plt.boxplot(Screen_1, vert=False, patch_artist=True, showmeans=True, meanline=True)\n",
    "plt.plot(outliers_1, [1] * len(outliers_1), 'ro', label='Outliers')\n",
    "plt.xlabel('Screen Inch')\n",
    "plt.title('Box Plot of Screen')\n",
    "plt.legend()\n",
    "\n",
    "# Second subplot for the second box plot\n",
    "plt.subplot(1, 2, 2)\n",
    "plt.boxplot(Screen_2, vert=False, patch_artist=True, showmeans=True, meanline=True)\n",
    "plt.plot(outliers_2, [1] * len(outliers_2), 'ro', label='Outliers')\n",
    "plt.xlabel('Battery')\n",
    "plt.title('Box Plot of Battery Capacity')\n",
    "plt.legend()\n",
    "\n",
    "# Show the plot\n",
    "plt.tight_layout()\n",
    "plt.show()\n"
   ]
  },
  {
   "cell_type": "markdown",
   "id": "143d96f8-f64b-4913-a507-7ee31dc892cf",
   "metadata": {},
   "source": [
    "### show counts per brand\n",
    "\n",
    "- Samsung is the highers, which means its the most bought brands or most brand that people use unlike sony being at the bottom from all the available brands from all the brands i have in my Data, but that still raise my question as to why do people like samsung so much. Is it the price?, Battery or Screen lets find out."
   ]
  },
  {
   "cell_type": "code",
   "execution_count": 125,
   "id": "40e78264-0085-4687-8385-1fcbe0cad62d",
   "metadata": {},
   "outputs": [
    {
     "data": {
      "image/png": "[encoded data removed]",
      "text/plain": [
       "<Figure size 1000x500 with 1 Axes>"
      ]
     },
     "metadata": {},
     "output_type": "display_data"
    }
   ],
   "source": [
    "plt.figure(figsize=(10,5))\n",
    "sns.countplot(data=data, x=\"Brand\")\n",
    "plt.xticks(rotation=30)\n",
    "plt.show()"
   ]
  },
  {
   "cell_type": "markdown",
   "id": "67e1fe44-e00d-41a0-b534-ba04efaec3d1",
   "metadata": {},
   "source": [
    "### show relationship between price and storage\n",
    "- Theres isnt a relationship between the price and storage according to my data as the data isnt spread to show the relationship between the two. So wether you have a bigger storage it doesnit affect the price of your phone."
   ]
  },
  {
   "cell_type": "code",
   "execution_count": 120,
   "id": "35ebee63-4636-4445-9114-64841a4f159c",
   "metadata": {},
   "outputs": [
    {
     "data": {
      "image/png": "[encoded data removed]",
      "text/plain": [
       "<Figure size 640x480 with 1 Axes>"
      ]
     },
     "metadata": {},
     "output_type": "display_data"
    }
   ],
   "source": [
    "sns.scatterplot(data=data, y='Price ($)', x='storage_gb')\n",
    "plt.show()"
   ]
  },
  {
   "cell_type": "markdown",
   "id": "0301cfca-6eee-422c-bc53-9c8293461219",
   "metadata": {},
   "source": [
    "# Show relationship between RAM and price\n",
    "- Well we all think that the price of any device depands on the RAM, but in my case with cell phone its doensnt seem to have a relationship so the RAM of the phone doesnot affect the price\n",
    "- Just used the scatterplot to see if there was any relationship betweem storage and price, to my suprising theres no relationship"
   ]
  },
  {
   "cell_type": "code",
   "execution_count": 129,
   "id": "86a9ba8a-1b3b-4386-8203-11d04803b0f5",
   "metadata": {},
   "outputs": [
    {
     "data": {
      "image/png": "[encoded data removed]",
      "text/plain": [
       "<Figure size 640x480 with 1 Axes>"
      ]
     },
     "metadata": {},
     "output_type": "display_data"
    }
   ],
   "source": [
    "sns.scatterplot(data=data, y='Price ($)', x='ram_gb')\n",
    "plt.show()"
   ]
  },
  {
   "cell_type": "markdown",
   "id": "6ccb7ec7-8d01-4819-8aa8-3aa4573b2d21",
   "metadata": {},
   "source": [
    "##### Showing the relationship between the Price and the Battery\n",
    "\n",
    "- Well the data is clusted in the middle, so the phone that rank from around 250 dollars to 1000 dollols, the battery capacity is around 4000 to  5000 mAh\n",
    "- Theres a strong consentration around the middle. Therefore this show that the is relationship or correlation between price and Battery capacity.The relationship is realtively strong. "
   ]
  },
  {
   "cell_type": "code",
   "execution_count": 130,
   "id": "ad222b6a-80f9-4ffa-a293-aee6202cf7a6",
   "metadata": {},
   "outputs": [
    {
     "data": {
      "image/png": "[encoded data removed]",
      "text/plain": [
       "<Figure size 640x480 with 1 Axes>"
      ]
     },
     "metadata": {},
     "output_type": "display_data"
    }
   ],
   "source": [
    "sns.scatterplot(data=data, y='Price ($)', x='Battery Capacity (mAh)')\n",
    "plt.show()"
   ]
  },
  {
   "cell_type": "markdown",
   "id": "f13bfd35-274a-44ff-a141-d08e2a047837",
   "metadata": {},
   "source": [
    "### relationship between  price and screen size"
   ]
  },
  {
   "cell_type": "code",
   "execution_count": 131,
   "id": "09a202dc-2c91-41b6-8280-ef5c06e2ba96",
   "metadata": {},
   "outputs": [
    {
     "data": {
      "image/png": "[encoded data removed]",
      "text/plain": [
       "<Figure size 640x480 with 1 Axes>"
      ]
     },
     "metadata": {},
     "output_type": "display_data"
    }
   ],
   "source": [
    "sns.scatterplot(data=data, y='Price ($)', x='screen_inch')\n",
    "plt.show()\n"
   ]
  },
  {
   "cell_type": "markdown",
   "id": "f6cf55b0-9a8c-40be-bf08-33dcff5c37ae",
   "metadata": {},
   "source": [
    "## screen and Price\n",
    "- This graph shows a linear trend, which indicates that theres no or less realtionship as the price increases it doesnt mean that your screen inch will increase too or vice versa."
   ]
  },
  {
   "cell_type": "code",
   "execution_count": 124,
   "id": "b95564ef-10d2-4a8e-b4af-cc6a07925374",
   "metadata": {},
   "outputs": [
    {
     "data": {
      "image/png": "[encoded data removed]",
      "text/plain": [
       "<Figure size 640x480 with 1 Axes>"
      ]
     },
     "metadata": {},
     "output_type": "display_data"
    }
   ],
   "source": [
    "sns.scatterplot(data=data, y='Price ($)', x='camera_mp_sum')\n",
    "plt.show()"
   ]
  },
  {
   "cell_type": "markdown",
   "id": "886493ff-79c3-4c13-9791-7ede8c4e7338",
   "metadata": {},
   "source": [
    "#### Camera and Price\n",
    "\n",
    "- As you take a look at the Above diagram \n",
    "- Well this does show that the higher the camara quality also the price increases too and the higher the price the better the quality\n"
   ]
  },
  {
   "cell_type": "markdown",
   "id": "c7a9472f-1cd5-4c0f-999e-6649805a64bb",
   "metadata": {},
   "source": [
    "#Battery Capacity\n",
    "\n",
    "- As you take a look at the below diagram \n",
    "- You can see that most bought phones have a battery capacity of 5000 mAh as the least bought have at around less tha 3000 mAh"
   ]
  },
  {
   "cell_type": "code",
   "execution_count": 132,
   "id": "95d0da13-3412-49db-b9a3-7b7404a21579",
   "metadata": {},
   "outputs": [
    {
     "data": {
      "image/png": "[encoded data removed]",
      "text/plain": [
       "<Figure size 1000x500 with 1 Axes>"
      ]
     },
     "metadata": {},
     "output_type": "display_data"
    }
   ],
   "source": [
    "plt.figure(figsize=(10,5))\n",
    "sns.countplot(data=data, x=\"Battery Capacity (mAh)\")\n",
    "plt.xticks(rotation=60)\n",
    "plt.show()"
   ]
  },
  {
   "cell_type": "markdown",
   "id": "855b1ffc-e5c8-4afe-b72f-f4826b8b3dc0",
   "metadata": {},
   "source": [
    "# price\n",
    "\n",
    "-  Most Phones Trank at 250 dollsrs\n"
   ]
  },
  {
   "cell_type": "code",
   "execution_count": 122,
   "id": "fd6d4152-2b20-44db-a2fa-4e3fc89e2d5c",
   "metadata": {},
   "outputs": [
    {
     "data": {
      "image/png": "[encoded data removed]",
      "text/plain": [
       "<Figure size 800x600 with 1 Axes>"
      ]
     },
     "metadata": {},
     "output_type": "display_data"
    }
   ],
   "source": [
    "# Create histogram\n",
    "plt.figure(figsize=(8, 6))\n",
    "plt.hist(data= data,x =\"Price ($)\", bins=10, color='skyblue', edgecolor='black')\n",
    "\n",
    "# Add labels and title\n",
    "plt.xlabel('Price')\n",
    "plt.ylabel('Frequency')\n",
    "plt.title('Histogram of price for all model')\n",
    "\n",
    "# Show the plot\n",
    "plt.show()"
   ]
  },
  {
   "cell_type": "code",
   "execution_count": null,
   "id": "06f033c1-e57e-449d-a2a8-b98cad0aa6bb",
   "metadata": {},
   "outputs": [],
   "source": [
    "data.columns"
   ]
  },
  {
   "cell_type": "markdown",
   "id": "de6fe9aa-e997-4806-894e-cc1165d0189d",
   "metadata": {},
   "source": [
    "### Reflections on your learnings between this assignment and the previous one. What was different between Python and Excel? When will you use either of them?  If you could do this assignment over what would you do differently? What are the gaps in your programming or stats knowledge?\n",
    "\n",
    "##### Excel is primarily suitable for tasks such as data entry, basic calculations, and simple visualizations like graphs and pie charts. It is very easy to use and It’s user-friendly, but I faced a challenge that deterred me from using it again, even if given the opportunity. The limitation was its inability to handle complex or large data set, and not being allowed to use its functions and formulas. Having to do things manually which was time consuming, and it tended to crash with large datasets. I dislike its tabular format for organizing, analyzing, and visualizing data.While Excel is a Microsoft program that’s easily accessible to Microsoft users, its commonly used in business, finance, and other fields requiring data management and analysis. Not things like Data Analysis, which is what we are doing for learning data. Excell is just boring, as with python you can show off your coding skills.  it falls short for tasks like extensive data analysis typically done in IT. For such purposes, I prefer Python, a high-level programming language renowned for its data analysis capabilities. Python's strength lies in its powerful libraries such as NumPy, pandas, and matplotlib, which I utilized for analyzing my dataset. Python enables efficient processing and analysis of large datasets without the risk of system crashes. Python is fun even though it may require more technical skills and knowledge, making it more challenging for non-technical collaborators to use and share.  Although I'm not an expert coder in Python, I'm proficient enough to navigate through it. Applying the statistical formulas, I learned in high school and combining them with Python's capabilities was relatively straightforward. While learning Excel was challenging initially due to lack of exposure, I found Python more enjoyable and flexible for completing assignments, thanks to its customizable nature.The previous was more difficult as I’ve never been exposed to excel in terms of having to analyze data manually without the use of the data analyses took that comes with excel. Unlike with python because I know my ways and enjoy with how flexible and customizable It is. Even though python also comes with its short cuts it was way easy, because in the first year I got to write the math’s formula and change it into a code. So, I prefer python for any data analysis.\n",
    "\n"
   ]
  },
  {
   "cell_type": "code",
   "execution_count": null,
   "id": "d57aaf6d-7fa4-4c1e-8fe8-c3e2825eb749",
   "metadata": {},
   "outputs": [],
   "source": []
  }
 ],
 "metadata": {
  "kernelspec": {
   "display_name": "Python 3 (ipykernel)",
   "language": "python",
   "name": "python3"
  },
  "language_info": {
   "codemirror_mode": {
    "name": "ipython",
    "version": 3
   },
   "file_extension": ".py",
   "mimetype": "text/x-python",
   "name": "python",
   "nbconvert_exporter": "python",
   "pygments_lexer": "ipython3",
   "version": "3.11.7"
  }
 },
 "nbformat": 4,
 "nbformat_minor": 5
}
